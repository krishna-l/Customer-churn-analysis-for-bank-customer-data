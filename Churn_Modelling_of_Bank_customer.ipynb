{
  "nbformat": 4,
  "nbformat_minor": 0,
  "metadata": {
    "colab": {
      "name": "Churn Modelling of Bank customer.ipynb",
      "provenance": []
    },
    "kernelspec": {
      "name": "python3",
      "display_name": "Python 3"
    }
  },
  "cells": [
    {
      "cell_type": "markdown",
      "metadata": {
        "id": "rJ4fkJUkrwvM",
        "colab_type": "text"
      },
      "source": [
        "# Customer churn analysis for a bank.\n",
        "We are using a kaggle dataset where there are some customers with a bank and there are 17 features mapped to it.\n",
        "\n",
        "Key/Dependent feature here is the exited which means whether the customer has stayed with the bank or not.\n",
        "\n",
        "So we need to predict whether in the future, customer leaves the bank or not.\n",
        " "
      ]
    },
    {
      "cell_type": "code",
      "metadata": {
        "id": "-NyWFi3DzPvk",
        "colab_type": "code",
        "colab": {
          "base_uri": "https://localhost:8080/",
          "height": 184
        },
        "outputId": "ce20c3bc-d7da-4985-a392-2525e4631056"
      },
      "source": [
        "pip install keras"
      ],
      "execution_count": 11,
      "outputs": [
        {
          "output_type": "stream",
          "text": [
            "Requirement already satisfied: keras in /usr/local/lib/python3.6/dist-packages (2.2.5)\n",
            "Requirement already satisfied: six>=1.9.0 in /usr/local/lib/python3.6/dist-packages (from keras) (1.12.0)\n",
            "Requirement already satisfied: pyyaml in /usr/local/lib/python3.6/dist-packages (from keras) (3.13)\n",
            "Requirement already satisfied: h5py in /usr/local/lib/python3.6/dist-packages (from keras) (2.10.0)\n",
            "Requirement already satisfied: keras-preprocessing>=1.1.0 in /usr/local/lib/python3.6/dist-packages (from keras) (1.1.0)\n",
            "Requirement already satisfied: numpy>=1.9.1 in /usr/local/lib/python3.6/dist-packages (from keras) (1.18.2)\n",
            "Requirement already satisfied: scipy>=0.14 in /usr/local/lib/python3.6/dist-packages (from keras) (1.4.1)\n",
            "Requirement already satisfied: keras-applications>=1.0.8 in /usr/local/lib/python3.6/dist-packages (from keras) (1.0.8)\n"
          ],
          "name": "stdout"
        }
      ]
    },
    {
      "cell_type": "code",
      "metadata": {
        "id": "Naawm4C0sgwa",
        "colab_type": "code",
        "colab": {
          "base_uri": "https://localhost:8080/",
          "height": 226
        },
        "outputId": "3802992f-c093-4ea3-e313-0a4ba105bb85"
      },
      "source": [
        "import numpy as np\n",
        "import matplotlib.pyplot as plt\n",
        "import pandas as pd\n",
        "\n",
        "#importing the dataset\n",
        "dataset = pd.read_csv('/content/drive/My Drive/Kaggle Data Sets/Churn_Modelling.csv')\n",
        "X = dataset.iloc[:,3:13] #Choosing the independent features like credit score, age annual income etc\n",
        "y = dataset.iloc[:, 13] #Taking out the result ie exited\n",
        "X.head()"
      ],
      "execution_count": 1,
      "outputs": [
        {
          "output_type": "execute_result",
          "data": {
            "text/html": [
              "<div>\n",
              "<style scoped>\n",
              "    .dataframe tbody tr th:only-of-type {\n",
              "        vertical-align: middle;\n",
              "    }\n",
              "\n",
              "    .dataframe tbody tr th {\n",
              "        vertical-align: top;\n",
              "    }\n",
              "\n",
              "    .dataframe thead th {\n",
              "        text-align: right;\n",
              "    }\n",
              "</style>\n",
              "<table border=\"1\" class=\"dataframe\">\n",
              "  <thead>\n",
              "    <tr style=\"text-align: right;\">\n",
              "      <th></th>\n",
              "      <th>CreditScore</th>\n",
              "      <th>Geography</th>\n",
              "      <th>Gender</th>\n",
              "      <th>Age</th>\n",
              "      <th>Tenure</th>\n",
              "      <th>Balance</th>\n",
              "      <th>NumOfProducts</th>\n",
              "      <th>HasCrCard</th>\n",
              "      <th>IsActiveMember</th>\n",
              "      <th>EstimatedSalary</th>\n",
              "    </tr>\n",
              "  </thead>\n",
              "  <tbody>\n",
              "    <tr>\n",
              "      <th>0</th>\n",
              "      <td>619</td>\n",
              "      <td>France</td>\n",
              "      <td>Female</td>\n",
              "      <td>42</td>\n",
              "      <td>2</td>\n",
              "      <td>0.00</td>\n",
              "      <td>1</td>\n",
              "      <td>1</td>\n",
              "      <td>1</td>\n",
              "      <td>101348.88</td>\n",
              "    </tr>\n",
              "    <tr>\n",
              "      <th>1</th>\n",
              "      <td>608</td>\n",
              "      <td>Spain</td>\n",
              "      <td>Female</td>\n",
              "      <td>41</td>\n",
              "      <td>1</td>\n",
              "      <td>83807.86</td>\n",
              "      <td>1</td>\n",
              "      <td>0</td>\n",
              "      <td>1</td>\n",
              "      <td>112542.58</td>\n",
              "    </tr>\n",
              "    <tr>\n",
              "      <th>2</th>\n",
              "      <td>502</td>\n",
              "      <td>France</td>\n",
              "      <td>Female</td>\n",
              "      <td>42</td>\n",
              "      <td>8</td>\n",
              "      <td>159660.80</td>\n",
              "      <td>3</td>\n",
              "      <td>1</td>\n",
              "      <td>0</td>\n",
              "      <td>113931.57</td>\n",
              "    </tr>\n",
              "    <tr>\n",
              "      <th>3</th>\n",
              "      <td>699</td>\n",
              "      <td>France</td>\n",
              "      <td>Female</td>\n",
              "      <td>39</td>\n",
              "      <td>1</td>\n",
              "      <td>0.00</td>\n",
              "      <td>2</td>\n",
              "      <td>0</td>\n",
              "      <td>0</td>\n",
              "      <td>93826.63</td>\n",
              "    </tr>\n",
              "    <tr>\n",
              "      <th>4</th>\n",
              "      <td>850</td>\n",
              "      <td>Spain</td>\n",
              "      <td>Female</td>\n",
              "      <td>43</td>\n",
              "      <td>2</td>\n",
              "      <td>125510.82</td>\n",
              "      <td>1</td>\n",
              "      <td>1</td>\n",
              "      <td>1</td>\n",
              "      <td>79084.10</td>\n",
              "    </tr>\n",
              "  </tbody>\n",
              "</table>\n",
              "</div>"
            ],
            "text/plain": [
              "   CreditScore Geography  Gender  ...  HasCrCard  IsActiveMember  EstimatedSalary\n",
              "0          619    France  Female  ...          1               1        101348.88\n",
              "1          608     Spain  Female  ...          0               1        112542.58\n",
              "2          502    France  Female  ...          1               0        113931.57\n",
              "3          699    France  Female  ...          0               0         93826.63\n",
              "4          850     Spain  Female  ...          1               1         79084.10\n",
              "\n",
              "[5 rows x 10 columns]"
            ]
          },
          "metadata": {
            "tags": []
          },
          "execution_count": 1
        }
      ]
    },
    {
      "cell_type": "markdown",
      "metadata": {
        "id": "ETEV1UiQuLKi",
        "colab_type": "text"
      },
      "source": [
        "Lets create some dummy variables like gender and geography"
      ]
    },
    {
      "cell_type": "code",
      "metadata": {
        "id": "1EH19KPbuSyB",
        "colab_type": "code",
        "colab": {}
      },
      "source": [
        "geography = pd.get_dummies(X['Geography'], drop_first=True) #Selecting the geography data from X\n",
        "gender = pd.get_dummies(X['Gender'], drop_first=True)\n",
        "\n",
        "#Concatenate this with the X\n",
        "X=pd.concat([X,geography,gender], axis=1)\n",
        "\n",
        "#dropping the actual columns of geography and gender as they have been added as dummy variables\n",
        "X=X.drop(['Geography', 'Gender'], axis=1)"
      ],
      "execution_count": 0,
      "outputs": []
    },
    {
      "cell_type": "markdown",
      "metadata": {
        "id": "6hAuPy6zvcui",
        "colab_type": "text"
      },
      "source": [
        "Now lets split the data into train test datasets."
      ]
    },
    {
      "cell_type": "code",
      "metadata": {
        "id": "a9yTJ5_6vh2X",
        "colab_type": "code",
        "colab": {}
      },
      "source": [
        "from sklearn.model_selection import train_test_split\n",
        "X_train, X_test, y_train, y_test = train_test_split(X, y, test_size=0.2, random_state=0) # only 20% data is taken for test"
      ],
      "execution_count": 0,
      "outputs": []
    },
    {
      "cell_type": "markdown",
      "metadata": {
        "id": "nErO_BhcwFRf",
        "colab_type": "text"
      },
      "source": [
        "Lets scale the inputs to a feasible value. "
      ]
    },
    {
      "cell_type": "code",
      "metadata": {
        "id": "ALBTV9tlv-zo",
        "colab_type": "code",
        "colab": {}
      },
      "source": [
        "from sklearn.preprocessing import StandardScaler\n",
        "sc = StandardScaler()\n",
        "X_train = sc.fit_transform(X_train)\n",
        "X_test = sc.fit_transform(X_test)"
      ],
      "execution_count": 0,
      "outputs": []
    },
    {
      "cell_type": "code",
      "metadata": {
        "id": "GHo3T5yTw0_4",
        "colab_type": "code",
        "colab": {
          "base_uri": "https://localhost:8080/",
          "height": 256
        },
        "outputId": "72fd4ab0-b630-4371-c0c5-0b221ba30e3d"
      },
      "source": [
        "X_train"
      ],
      "execution_count": 5,
      "outputs": [
        {
          "output_type": "execute_result",
          "data": {
            "text/plain": [
              "array([[ 0.16958176, -0.46460796,  0.00666099, ..., -0.5698444 ,\n",
              "         1.74309049, -1.09168714],\n",
              "       [-2.30455945,  0.30102557, -1.37744033, ...,  1.75486502,\n",
              "        -0.57369368,  0.91601335],\n",
              "       [-1.19119591, -0.94312892, -1.031415  , ..., -0.5698444 ,\n",
              "        -0.57369368, -1.09168714],\n",
              "       ...,\n",
              "       [ 0.9015152 , -0.36890377,  0.00666099, ..., -0.5698444 ,\n",
              "        -0.57369368,  0.91601335],\n",
              "       [-0.62420521, -0.08179119,  1.39076231, ..., -0.5698444 ,\n",
              "         1.74309049, -1.09168714],\n",
              "       [-0.28401079,  0.87525072, -1.37744033, ...,  1.75486502,\n",
              "        -0.57369368, -1.09168714]])"
            ]
          },
          "metadata": {
            "tags": []
          },
          "execution_count": 5
        }
      ]
    },
    {
      "cell_type": "markdown",
      "metadata": {
        "id": "0IjyUFR4w3x-",
        "colab_type": "text"
      },
      "source": [
        "Lets define the ANN model now"
      ]
    },
    {
      "cell_type": "code",
      "metadata": {
        "id": "TIDv3Ubww6ph",
        "colab_type": "code",
        "colab": {}
      },
      "source": [
        "import tensorflow\n",
        "from tensorflow.keras.models import Sequential\n",
        "from tensorflow.keras.layers import Dense, LeakyReLU, PReLU, ELU, Dropout"
      ],
      "execution_count": 0,
      "outputs": []
    },
    {
      "cell_type": "code",
      "metadata": {
        "id": "04Fkot6dxa7B",
        "colab_type": "code",
        "colab": {
          "base_uri": "https://localhost:8080/",
          "height": 274
        },
        "outputId": "a715f466-3eea-45a3-96b4-ef59d73e2a0a"
      },
      "source": [
        "model = Sequential()\n",
        "#Hidden Layer 1\n",
        "model.add(Dense(units=6, kernel_initializer= 'he_uniform', activation='relu', input_dim= 11)) #adding first hidden layer with 6 neurons and relu activation\n",
        "#Hidden Layer 2\n",
        "model.add(Dense(units=6, kernel_initializer='he_uniform', activation='relu'))#kernel initializer is nothing but the weight initalization method\n",
        "#Output Layer\n",
        "model.add(Dense(units=1, kernel_initializer='glorot_uniform', activation='sigmoid')) #Since its binary classificaiton we use sigmoid\n",
        "\n",
        "model.summary()"
      ],
      "execution_count": 16,
      "outputs": [
        {
          "output_type": "stream",
          "text": [
            "Model: \"sequential_1\"\n",
            "_________________________________________________________________\n",
            "Layer (type)                 Output Shape              Param #   \n",
            "=================================================================\n",
            "dense_3 (Dense)              (None, 6)                 72        \n",
            "_________________________________________________________________\n",
            "dense_4 (Dense)              (None, 6)                 42        \n",
            "_________________________________________________________________\n",
            "dense_5 (Dense)              (None, 1)                 7         \n",
            "=================================================================\n",
            "Total params: 121\n",
            "Trainable params: 121\n",
            "Non-trainable params: 0\n",
            "_________________________________________________________________\n"
          ],
          "name": "stdout"
        }
      ]
    },
    {
      "cell_type": "markdown",
      "metadata": {
        "id": "1DcPhV9szszn",
        "colab_type": "text"
      },
      "source": [
        "Lets add a optimzer and Loss function. We will use adam optimizer and since its binary classification we use binary_corssentropy."
      ]
    },
    {
      "cell_type": "code",
      "metadata": {
        "id": "fYuONKq7z6ME",
        "colab_type": "code",
        "colab": {}
      },
      "source": [
        "model.compile(optimizer='adam', loss= 'binary_crossentropy', metrics=['accuracy'])"
      ],
      "execution_count": 0,
      "outputs": []
    },
    {
      "cell_type": "markdown",
      "metadata": {
        "id": "1R40uqtl0Pn2",
        "colab_type": "text"
      },
      "source": [
        "Lets train the model"
      ]
    },
    {
      "cell_type": "code",
      "metadata": {
        "id": "b4pwJQ4p0Kz8",
        "colab_type": "code",
        "colab": {
          "base_uri": "https://localhost:8080/",
          "height": 1000
        },
        "outputId": "938ce733-07ce-4660-9681-32b11d4a408d"
      },
      "source": [
        "model_history = model.fit(X_train, y_train, validation_split=0.33, batch_size=10, epochs=100)"
      ],
      "execution_count": 20,
      "outputs": [
        {
          "output_type": "stream",
          "text": [
            "Epoch 1/100\n",
            "536/536 [==============================] - 1s 2ms/step - loss: 0.4563 - accuracy: 0.8018 - val_loss: 0.4618 - val_accuracy: 0.8005\n",
            "Epoch 2/100\n",
            "536/536 [==============================] - 1s 2ms/step - loss: 0.4421 - accuracy: 0.8056 - val_loss: 0.4494 - val_accuracy: 0.8020\n",
            "Epoch 3/100\n",
            "536/536 [==============================] - 1s 2ms/step - loss: 0.4249 - accuracy: 0.8082 - val_loss: 0.4321 - val_accuracy: 0.8039\n",
            "Epoch 4/100\n",
            "536/536 [==============================] - 1s 2ms/step - loss: 0.4045 - accuracy: 0.8110 - val_loss: 0.4128 - val_accuracy: 0.8076\n",
            "Epoch 5/100\n",
            "536/536 [==============================] - 1s 2ms/step - loss: 0.3882 - accuracy: 0.8140 - val_loss: 0.3995 - val_accuracy: 0.8118\n",
            "Epoch 6/100\n",
            "536/536 [==============================] - 1s 2ms/step - loss: 0.3771 - accuracy: 0.8216 - val_loss: 0.3918 - val_accuracy: 0.8160\n",
            "Epoch 7/100\n",
            "536/536 [==============================] - 1s 2ms/step - loss: 0.3696 - accuracy: 0.8266 - val_loss: 0.3862 - val_accuracy: 0.8198\n",
            "Epoch 8/100\n",
            "536/536 [==============================] - 1s 2ms/step - loss: 0.3640 - accuracy: 0.8358 - val_loss: 0.3831 - val_accuracy: 0.8364\n",
            "Epoch 9/100\n",
            "536/536 [==============================] - 1s 2ms/step - loss: 0.3602 - accuracy: 0.8494 - val_loss: 0.3790 - val_accuracy: 0.8417\n",
            "Epoch 10/100\n",
            "536/536 [==============================] - 1s 2ms/step - loss: 0.3563 - accuracy: 0.8507 - val_loss: 0.3775 - val_accuracy: 0.8444\n",
            "Epoch 11/100\n",
            "536/536 [==============================] - 1s 2ms/step - loss: 0.3539 - accuracy: 0.8548 - val_loss: 0.3751 - val_accuracy: 0.8489\n",
            "Epoch 12/100\n",
            "536/536 [==============================] - 1s 2ms/step - loss: 0.3516 - accuracy: 0.8554 - val_loss: 0.3738 - val_accuracy: 0.8417\n",
            "Epoch 13/100\n",
            "536/536 [==============================] - 1s 2ms/step - loss: 0.3502 - accuracy: 0.8548 - val_loss: 0.3738 - val_accuracy: 0.8474\n",
            "Epoch 14/100\n",
            "536/536 [==============================] - 1s 2ms/step - loss: 0.3489 - accuracy: 0.8554 - val_loss: 0.3712 - val_accuracy: 0.8436\n",
            "Epoch 15/100\n",
            "536/536 [==============================] - 1s 2ms/step - loss: 0.3467 - accuracy: 0.8554 - val_loss: 0.3695 - val_accuracy: 0.8425\n",
            "Epoch 16/100\n",
            "536/536 [==============================] - 1s 2ms/step - loss: 0.3458 - accuracy: 0.8578 - val_loss: 0.3683 - val_accuracy: 0.8448\n",
            "Epoch 17/100\n",
            "536/536 [==============================] - 1s 2ms/step - loss: 0.3440 - accuracy: 0.8606 - val_loss: 0.3680 - val_accuracy: 0.8448\n",
            "Epoch 18/100\n",
            "536/536 [==============================] - 1s 2ms/step - loss: 0.3436 - accuracy: 0.8597 - val_loss: 0.3676 - val_accuracy: 0.8466\n",
            "Epoch 19/100\n",
            "536/536 [==============================] - 1s 2ms/step - loss: 0.3426 - accuracy: 0.8614 - val_loss: 0.3661 - val_accuracy: 0.8451\n",
            "Epoch 20/100\n",
            "536/536 [==============================] - 1s 2ms/step - loss: 0.3420 - accuracy: 0.8608 - val_loss: 0.3653 - val_accuracy: 0.8478\n",
            "Epoch 21/100\n",
            "536/536 [==============================] - 1s 2ms/step - loss: 0.3413 - accuracy: 0.8591 - val_loss: 0.3641 - val_accuracy: 0.8485\n",
            "Epoch 22/100\n",
            "536/536 [==============================] - 1s 2ms/step - loss: 0.3405 - accuracy: 0.8615 - val_loss: 0.3636 - val_accuracy: 0.8451\n",
            "Epoch 23/100\n",
            "536/536 [==============================] - 1s 2ms/step - loss: 0.3392 - accuracy: 0.8595 - val_loss: 0.3630 - val_accuracy: 0.8497\n",
            "Epoch 24/100\n",
            "536/536 [==============================] - 1s 2ms/step - loss: 0.3385 - accuracy: 0.8599 - val_loss: 0.3628 - val_accuracy: 0.8470\n",
            "Epoch 25/100\n",
            "536/536 [==============================] - 1s 2ms/step - loss: 0.3380 - accuracy: 0.8606 - val_loss: 0.3629 - val_accuracy: 0.8493\n",
            "Epoch 26/100\n",
            "536/536 [==============================] - 1s 2ms/step - loss: 0.3371 - accuracy: 0.8615 - val_loss: 0.3632 - val_accuracy: 0.8474\n",
            "Epoch 27/100\n",
            "536/536 [==============================] - 1s 2ms/step - loss: 0.3370 - accuracy: 0.8627 - val_loss: 0.3617 - val_accuracy: 0.8489\n",
            "Epoch 28/100\n",
            "536/536 [==============================] - 1s 2ms/step - loss: 0.3368 - accuracy: 0.8610 - val_loss: 0.3630 - val_accuracy: 0.8485\n",
            "Epoch 29/100\n",
            "536/536 [==============================] - 1s 2ms/step - loss: 0.3362 - accuracy: 0.8612 - val_loss: 0.3626 - val_accuracy: 0.8508\n",
            "Epoch 30/100\n",
            "536/536 [==============================] - 1s 2ms/step - loss: 0.3353 - accuracy: 0.8627 - val_loss: 0.3633 - val_accuracy: 0.8489\n",
            "Epoch 31/100\n",
            "536/536 [==============================] - 1s 2ms/step - loss: 0.3354 - accuracy: 0.8621 - val_loss: 0.3628 - val_accuracy: 0.8508\n",
            "Epoch 32/100\n",
            "536/536 [==============================] - 1s 2ms/step - loss: 0.3352 - accuracy: 0.8604 - val_loss: 0.3624 - val_accuracy: 0.8497\n",
            "Epoch 33/100\n",
            "536/536 [==============================] - 1s 2ms/step - loss: 0.3346 - accuracy: 0.8615 - val_loss: 0.3625 - val_accuracy: 0.8493\n",
            "Epoch 34/100\n",
            "536/536 [==============================] - 1s 2ms/step - loss: 0.3344 - accuracy: 0.8602 - val_loss: 0.3624 - val_accuracy: 0.8489\n",
            "Epoch 35/100\n",
            "536/536 [==============================] - 1s 2ms/step - loss: 0.3345 - accuracy: 0.8614 - val_loss: 0.3616 - val_accuracy: 0.8478\n",
            "Epoch 36/100\n",
            "536/536 [==============================] - 1s 2ms/step - loss: 0.3337 - accuracy: 0.8602 - val_loss: 0.3625 - val_accuracy: 0.8512\n",
            "Epoch 37/100\n",
            "536/536 [==============================] - 1s 2ms/step - loss: 0.3340 - accuracy: 0.8612 - val_loss: 0.3613 - val_accuracy: 0.8497\n",
            "Epoch 38/100\n",
            "536/536 [==============================] - 1s 2ms/step - loss: 0.3334 - accuracy: 0.8614 - val_loss: 0.3610 - val_accuracy: 0.8504\n",
            "Epoch 39/100\n",
            "536/536 [==============================] - 1s 2ms/step - loss: 0.3329 - accuracy: 0.8600 - val_loss: 0.3633 - val_accuracy: 0.8463\n",
            "Epoch 40/100\n",
            "536/536 [==============================] - 1s 2ms/step - loss: 0.3334 - accuracy: 0.8600 - val_loss: 0.3618 - val_accuracy: 0.8497\n",
            "Epoch 41/100\n",
            "536/536 [==============================] - 1s 2ms/step - loss: 0.3325 - accuracy: 0.8600 - val_loss: 0.3635 - val_accuracy: 0.8519\n",
            "Epoch 42/100\n",
            "536/536 [==============================] - 1s 2ms/step - loss: 0.3324 - accuracy: 0.8632 - val_loss: 0.3626 - val_accuracy: 0.8489\n",
            "Epoch 43/100\n",
            "536/536 [==============================] - 1s 2ms/step - loss: 0.3329 - accuracy: 0.8617 - val_loss: 0.3609 - val_accuracy: 0.8466\n",
            "Epoch 44/100\n",
            "536/536 [==============================] - 1s 2ms/step - loss: 0.3327 - accuracy: 0.8604 - val_loss: 0.3615 - val_accuracy: 0.8519\n",
            "Epoch 45/100\n",
            "536/536 [==============================] - 1s 2ms/step - loss: 0.3320 - accuracy: 0.8608 - val_loss: 0.3606 - val_accuracy: 0.8519\n",
            "Epoch 46/100\n",
            "536/536 [==============================] - 1s 2ms/step - loss: 0.3320 - accuracy: 0.8628 - val_loss: 0.3620 - val_accuracy: 0.8519\n",
            "Epoch 47/100\n",
            "536/536 [==============================] - 1s 2ms/step - loss: 0.3321 - accuracy: 0.8619 - val_loss: 0.3600 - val_accuracy: 0.8493\n",
            "Epoch 48/100\n",
            "536/536 [==============================] - 1s 2ms/step - loss: 0.3321 - accuracy: 0.8636 - val_loss: 0.3604 - val_accuracy: 0.8493\n",
            "Epoch 49/100\n",
            "536/536 [==============================] - 1s 2ms/step - loss: 0.3317 - accuracy: 0.8630 - val_loss: 0.3605 - val_accuracy: 0.8497\n",
            "Epoch 50/100\n",
            "536/536 [==============================] - 1s 2ms/step - loss: 0.3312 - accuracy: 0.8600 - val_loss: 0.3607 - val_accuracy: 0.8489\n",
            "Epoch 51/100\n",
            "536/536 [==============================] - 1s 2ms/step - loss: 0.3312 - accuracy: 0.8632 - val_loss: 0.3604 - val_accuracy: 0.8497\n",
            "Epoch 52/100\n",
            "536/536 [==============================] - 1s 2ms/step - loss: 0.3307 - accuracy: 0.8614 - val_loss: 0.3603 - val_accuracy: 0.8497\n",
            "Epoch 53/100\n",
            "536/536 [==============================] - 1s 2ms/step - loss: 0.3312 - accuracy: 0.8614 - val_loss: 0.3601 - val_accuracy: 0.8516\n",
            "Epoch 54/100\n",
            "536/536 [==============================] - 1s 2ms/step - loss: 0.3304 - accuracy: 0.8621 - val_loss: 0.3609 - val_accuracy: 0.8501\n",
            "Epoch 55/100\n",
            "536/536 [==============================] - 1s 2ms/step - loss: 0.3305 - accuracy: 0.8636 - val_loss: 0.3597 - val_accuracy: 0.8497\n",
            "Epoch 56/100\n",
            "536/536 [==============================] - 1s 2ms/step - loss: 0.3304 - accuracy: 0.8615 - val_loss: 0.3596 - val_accuracy: 0.8482\n",
            "Epoch 57/100\n",
            "536/536 [==============================] - 1s 2ms/step - loss: 0.3303 - accuracy: 0.8634 - val_loss: 0.3590 - val_accuracy: 0.8493\n",
            "Epoch 58/100\n",
            "536/536 [==============================] - 1s 2ms/step - loss: 0.3302 - accuracy: 0.8623 - val_loss: 0.3596 - val_accuracy: 0.8482\n",
            "Epoch 59/100\n",
            "536/536 [==============================] - 1s 2ms/step - loss: 0.3302 - accuracy: 0.8628 - val_loss: 0.3606 - val_accuracy: 0.8470\n",
            "Epoch 60/100\n",
            "536/536 [==============================] - 1s 2ms/step - loss: 0.3298 - accuracy: 0.8621 - val_loss: 0.3600 - val_accuracy: 0.8497\n",
            "Epoch 61/100\n",
            "536/536 [==============================] - 1s 2ms/step - loss: 0.3299 - accuracy: 0.8628 - val_loss: 0.3596 - val_accuracy: 0.8485\n",
            "Epoch 62/100\n",
            "536/536 [==============================] - 1s 2ms/step - loss: 0.3295 - accuracy: 0.8634 - val_loss: 0.3606 - val_accuracy: 0.8516\n",
            "Epoch 63/100\n",
            "536/536 [==============================] - 1s 2ms/step - loss: 0.3301 - accuracy: 0.8600 - val_loss: 0.3593 - val_accuracy: 0.8497\n",
            "Epoch 64/100\n",
            "536/536 [==============================] - 1s 2ms/step - loss: 0.3298 - accuracy: 0.8621 - val_loss: 0.3604 - val_accuracy: 0.8497\n",
            "Epoch 65/100\n",
            "536/536 [==============================] - 1s 2ms/step - loss: 0.3292 - accuracy: 0.8621 - val_loss: 0.3614 - val_accuracy: 0.8508\n",
            "Epoch 66/100\n",
            "536/536 [==============================] - 1s 2ms/step - loss: 0.3296 - accuracy: 0.8645 - val_loss: 0.3610 - val_accuracy: 0.8489\n",
            "Epoch 67/100\n",
            "536/536 [==============================] - 1s 2ms/step - loss: 0.3298 - accuracy: 0.8615 - val_loss: 0.3591 - val_accuracy: 0.8485\n",
            "Epoch 68/100\n",
            "536/536 [==============================] - 1s 2ms/step - loss: 0.3292 - accuracy: 0.8604 - val_loss: 0.3585 - val_accuracy: 0.8501\n",
            "Epoch 69/100\n",
            "536/536 [==============================] - 1s 2ms/step - loss: 0.3295 - accuracy: 0.8606 - val_loss: 0.3582 - val_accuracy: 0.8501\n",
            "Epoch 70/100\n",
            "536/536 [==============================] - 1s 2ms/step - loss: 0.3290 - accuracy: 0.8632 - val_loss: 0.3595 - val_accuracy: 0.8508\n",
            "Epoch 71/100\n",
            "536/536 [==============================] - 1s 2ms/step - loss: 0.3294 - accuracy: 0.8628 - val_loss: 0.3595 - val_accuracy: 0.8512\n",
            "Epoch 72/100\n",
            "536/536 [==============================] - 1s 2ms/step - loss: 0.3292 - accuracy: 0.8627 - val_loss: 0.3584 - val_accuracy: 0.8508\n",
            "Epoch 73/100\n",
            "536/536 [==============================] - 1s 2ms/step - loss: 0.3284 - accuracy: 0.8625 - val_loss: 0.3597 - val_accuracy: 0.8489\n",
            "Epoch 74/100\n",
            "536/536 [==============================] - 1s 2ms/step - loss: 0.3290 - accuracy: 0.8630 - val_loss: 0.3600 - val_accuracy: 0.8527\n",
            "Epoch 75/100\n",
            "536/536 [==============================] - 1s 2ms/step - loss: 0.3290 - accuracy: 0.8617 - val_loss: 0.3591 - val_accuracy: 0.8512\n",
            "Epoch 76/100\n",
            "536/536 [==============================] - 1s 2ms/step - loss: 0.3289 - accuracy: 0.8621 - val_loss: 0.3592 - val_accuracy: 0.8497\n",
            "Epoch 77/100\n",
            "536/536 [==============================] - 1s 2ms/step - loss: 0.3286 - accuracy: 0.8625 - val_loss: 0.3586 - val_accuracy: 0.8501\n",
            "Epoch 78/100\n",
            "536/536 [==============================] - 1s 2ms/step - loss: 0.3288 - accuracy: 0.8632 - val_loss: 0.3598 - val_accuracy: 0.8497\n",
            "Epoch 79/100\n",
            "536/536 [==============================] - 1s 2ms/step - loss: 0.3283 - accuracy: 0.8640 - val_loss: 0.3612 - val_accuracy: 0.8501\n",
            "Epoch 80/100\n",
            "536/536 [==============================] - 1s 2ms/step - loss: 0.3289 - accuracy: 0.8619 - val_loss: 0.3579 - val_accuracy: 0.8516\n",
            "Epoch 81/100\n",
            "536/536 [==============================] - 1s 2ms/step - loss: 0.3281 - accuracy: 0.8645 - val_loss: 0.3590 - val_accuracy: 0.8504\n",
            "Epoch 82/100\n",
            "536/536 [==============================] - 1s 2ms/step - loss: 0.3280 - accuracy: 0.8632 - val_loss: 0.3593 - val_accuracy: 0.8493\n",
            "Epoch 83/100\n",
            "536/536 [==============================] - 1s 2ms/step - loss: 0.3279 - accuracy: 0.8627 - val_loss: 0.3579 - val_accuracy: 0.8497\n",
            "Epoch 84/100\n",
            "536/536 [==============================] - 1s 2ms/step - loss: 0.3282 - accuracy: 0.8640 - val_loss: 0.3587 - val_accuracy: 0.8519\n",
            "Epoch 85/100\n",
            "536/536 [==============================] - 1s 2ms/step - loss: 0.3278 - accuracy: 0.8636 - val_loss: 0.3589 - val_accuracy: 0.8508\n",
            "Epoch 86/100\n",
            "536/536 [==============================] - 1s 2ms/step - loss: 0.3280 - accuracy: 0.8640 - val_loss: 0.3595 - val_accuracy: 0.8516\n",
            "Epoch 87/100\n",
            "536/536 [==============================] - 1s 2ms/step - loss: 0.3276 - accuracy: 0.8634 - val_loss: 0.3584 - val_accuracy: 0.8489\n",
            "Epoch 88/100\n",
            "536/536 [==============================] - 1s 2ms/step - loss: 0.3280 - accuracy: 0.8634 - val_loss: 0.3577 - val_accuracy: 0.8516\n",
            "Epoch 89/100\n",
            "536/536 [==============================] - 1s 2ms/step - loss: 0.3280 - accuracy: 0.8651 - val_loss: 0.3587 - val_accuracy: 0.8516\n",
            "Epoch 90/100\n",
            "536/536 [==============================] - 1s 2ms/step - loss: 0.3278 - accuracy: 0.8632 - val_loss: 0.3595 - val_accuracy: 0.8489\n",
            "Epoch 91/100\n",
            "536/536 [==============================] - 1s 2ms/step - loss: 0.3277 - accuracy: 0.8628 - val_loss: 0.3584 - val_accuracy: 0.8504\n",
            "Epoch 92/100\n",
            "536/536 [==============================] - 1s 2ms/step - loss: 0.3277 - accuracy: 0.8649 - val_loss: 0.3591 - val_accuracy: 0.8519\n",
            "Epoch 93/100\n",
            "536/536 [==============================] - 1s 2ms/step - loss: 0.3276 - accuracy: 0.8634 - val_loss: 0.3594 - val_accuracy: 0.8508\n",
            "Epoch 94/100\n",
            "536/536 [==============================] - 1s 2ms/step - loss: 0.3272 - accuracy: 0.8627 - val_loss: 0.3583 - val_accuracy: 0.8493\n",
            "Epoch 95/100\n",
            "536/536 [==============================] - 1s 2ms/step - loss: 0.3279 - accuracy: 0.8632 - val_loss: 0.3589 - val_accuracy: 0.8501\n",
            "Epoch 96/100\n",
            "536/536 [==============================] - 1s 2ms/step - loss: 0.3276 - accuracy: 0.8634 - val_loss: 0.3600 - val_accuracy: 0.8497\n",
            "Epoch 97/100\n",
            "536/536 [==============================] - 1s 2ms/step - loss: 0.3274 - accuracy: 0.8632 - val_loss: 0.3591 - val_accuracy: 0.8504\n",
            "Epoch 98/100\n",
            "536/536 [==============================] - 1s 2ms/step - loss: 0.3275 - accuracy: 0.8617 - val_loss: 0.3587 - val_accuracy: 0.8527\n",
            "Epoch 99/100\n",
            "536/536 [==============================] - 1s 2ms/step - loss: 0.3274 - accuracy: 0.8636 - val_loss: 0.3589 - val_accuracy: 0.8512\n",
            "Epoch 100/100\n",
            "536/536 [==============================] - 1s 2ms/step - loss: 0.3269 - accuracy: 0.8638 - val_loss: 0.3614 - val_accuracy: 0.8508\n"
          ],
          "name": "stdout"
        }
      ]
    },
    {
      "cell_type": "code",
      "metadata": {
        "id": "Inq-x1Yi1pNa",
        "colab_type": "code",
        "colab": {}
      },
      "source": [
        "pred = model.predict(X_test)\n",
        "pred= (pred > 0.5)"
      ],
      "execution_count": 0,
      "outputs": []
    },
    {
      "cell_type": "code",
      "metadata": {
        "id": "UhzUeXM115c3",
        "colab_type": "code",
        "colab": {
          "base_uri": "https://localhost:8080/",
          "height": 54
        },
        "outputId": "4189373b-2d0e-4f9d-9cae-68cc8e00860b"
      },
      "source": [
        "#Making confusion matrix\n",
        "from sklearn.metrics import confusion_matrix, accuracy_score\n",
        "cm = confusion_matrix(y_test, pred)\n",
        "cm"
      ],
      "execution_count": 25,
      "outputs": [
        {
          "output_type": "execute_result",
          "data": {
            "text/plain": [
              "array([[1532,   63],\n",
              "       [ 208,  197]])"
            ]
          },
          "metadata": {
            "tags": []
          },
          "execution_count": 25
        }
      ]
    },
    {
      "cell_type": "code",
      "metadata": {
        "id": "4DcitZhc2IHB",
        "colab_type": "code",
        "colab": {
          "base_uri": "https://localhost:8080/",
          "height": 35
        },
        "outputId": "e1a8ec6f-ca4c-431c-bb4b-a0de5f0ad42d"
      },
      "source": [
        "score = accuracy_score(pred, y_test)\n",
        "score"
      ],
      "execution_count": 27,
      "outputs": [
        {
          "output_type": "execute_result",
          "data": {
            "text/plain": [
              "0.8645"
            ]
          },
          "metadata": {
            "tags": []
          },
          "execution_count": 27
        }
      ]
    }
  ]
}